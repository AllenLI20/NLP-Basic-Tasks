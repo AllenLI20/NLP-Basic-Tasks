{
 "cells": [
  {
   "cell_type": "code",
   "execution_count": 1,
   "metadata": {
    "ExecuteTime": {
     "end_time": "2020-01-28T13:30:29.287001Z",
     "start_time": "2020-01-28T13:30:17.302840Z"
    }
   },
   "outputs": [],
   "source": [
    "from sklearn.feature_extraction.text import CountVectorizer\n",
    "import pandas as pd\n",
    "import numpy as np\n",
    "import math"
   ]
  },
  {
   "cell_type": "code",
   "execution_count": null,
   "metadata": {
    "ExecuteTime": {
     "end_time": "2020-01-28T12:10:38.632457Z",
     "start_time": "2020-01-28T12:10:38.045996Z"
    }
   },
   "outputs": [],
   "source": [
    "train=pd.read_table('train.tsv',sep='\\\\t')"
   ]
  },
  {
   "cell_type": "markdown",
   "metadata": {},
   "source": [
    "# Generating Covariates"
   ]
  },
  {
   "cell_type": "markdown",
   "metadata": {},
   "source": [
    "## Uni-grams"
   ]
  },
  {
   "cell_type": "code",
   "execution_count": null,
   "metadata": {
    "ExecuteTime": {
     "end_time": "2020-01-28T12:10:42.482619Z",
     "start_time": "2020-01-28T12:10:41.016181Z"
    }
   },
   "outputs": [],
   "source": [
    "from gensim import corpora, models\n",
    "import nltk\n",
    "import re"
   ]
  },
  {
   "cell_type": "code",
   "execution_count": null,
   "metadata": {
    "ExecuteTime": {
     "end_time": "2020-01-28T12:10:43.973349Z",
     "start_time": "2020-01-28T12:10:43.854635Z"
    },
    "scrolled": true
   },
   "outputs": [],
   "source": [
    "texts = train['Phrase'].tolist()\n",
    "tags=nltk.pos_tag(['word','123','12a','a123','all','the','it','this','that','me','some','small','very',\n",
    "                  'not','with','black','stand','take','here','in','at','by','my',\n",
    "                  'are','is','am','and','or','but','hence','to','where','when','which'])\n",
    "tags"
   ]
  },
  {
   "cell_type": "code",
   "execution_count": null,
   "metadata": {
    "ExecuteTime": {
     "end_time": "2020-01-28T12:17:00.819889Z",
     "start_time": "2020-01-28T12:10:49.514208Z"
    }
   },
   "outputs": [],
   "source": [
    "# 分词过滤条件\n",
    "#flags = ('n', 'nr', 'ns', 'nt', 'eng', 'v', 'd')  \n",
    "stopwords = ('-',',','.',';',':',\"'\")  # 停词\n",
    "stoptags = ['CC','CD','IN','TO','PRP','PDT','DT','PRP$','WRB'] # 词性\n",
    "\n",
    "words_ls = []\n",
    "for text in texts:\n",
    "    words = [word for word in nltk.word_tokenize(text) if (word not in stopwords) and re.findall(re.compile(r'\\d+'),word)==[] and (nltk.pos_tag([word])[0][1] not in stoptags)]\n",
    "    words_ls.append(words)\n",
    "dictionary = corpora.Dictionary(words_ls)\n",
    "corpus = [dictionary.doc2bow(words) for words in words_ls]"
   ]
  },
  {
   "cell_type": "code",
   "execution_count": null,
   "metadata": {
    "ExecuteTime": {
     "end_time": "2020-01-28T12:17:16.642646Z",
     "start_time": "2020-01-28T12:17:16.635665Z"
    }
   },
   "outputs": [],
   "source": [
    "len(corpus)\n",
    "len(dictionary)"
   ]
  },
  {
   "cell_type": "code",
   "execution_count": null,
   "metadata": {},
   "outputs": [],
   "source": [
    "# with open(\"corpus.txt\",\"w\") as f:\n",
    "#     for i in range(len(corpus)):\n",
    "#         f.write(str(corpus[i])+\"\\n\")"
   ]
  },
  {
   "cell_type": "code",
   "execution_count": null,
   "metadata": {},
   "outputs": [],
   "source": [
    "# with open(\"dict.txt\",\"w\") as f:\n",
    "#     for i in range(len(dictionary)):\n",
    "#         f.write(dictionary[i]+\"\\n\")"
   ]
  },
  {
   "cell_type": "code",
   "execution_count": null,
   "metadata": {
    "ExecuteTime": {
     "end_time": "2020-01-24T12:02:25.313359Z",
     "start_time": "2020-01-24T12:02:25.210811Z"
    }
   },
   "outputs": [],
   "source": [
    "dictionary=pd.read_table('dict.txt',header=None)[0].tolist()\n",
    "sparse_mat=pd.read_table('corpus.txt',header=None)"
   ]
  },
  {
   "cell_type": "code",
   "execution_count": null,
   "metadata": {
    "ExecuteTime": {
     "end_time": "2020-01-24T12:03:59.130908Z",
     "start_time": "2020-01-24T12:03:59.126955Z"
    },
    "scrolled": true
   },
   "outputs": [],
   "source": [
    "# sparse_mat[0]\n",
    "# inds=eval(sparse_mat[0][0])\n",
    "# inds"
   ]
  },
  {
   "cell_type": "code",
   "execution_count": null,
   "metadata": {},
   "outputs": [],
   "source": []
  },
  {
   "cell_type": "markdown",
   "metadata": {},
   "source": [
    "## TF-IDF"
   ]
  },
  {
   "cell_type": "code",
   "execution_count": null,
   "metadata": {
    "ExecuteTime": {
     "end_time": "2020-01-28T12:17:48.232897Z",
     "start_time": "2020-01-28T12:17:48.126025Z"
    }
   },
   "outputs": [],
   "source": [
    "sparse_mat=pd.read_table('corpus.txt',header=None)[0]"
   ]
  },
  {
   "cell_type": "code",
   "execution_count": null,
   "metadata": {
    "ExecuteTime": {
     "end_time": "2020-01-28T12:19:14.343892Z",
     "start_time": "2020-01-28T12:19:10.622217Z"
    }
   },
   "outputs": [],
   "source": [
    "corpus=[eval(sparse_mat[i]) for i in range(len(sparse_mat))]"
   ]
  },
  {
   "cell_type": "code",
   "execution_count": null,
   "metadata": {
    "ExecuteTime": {
     "end_time": "2020-01-28T12:20:10.006251Z",
     "start_time": "2020-01-28T12:20:09.853623Z"
    }
   },
   "outputs": [],
   "source": [
    "tfidf_model = models.TfidfModel(corpus)\n",
    "corpus_tfidf = tfidf_model[corpus]"
   ]
  },
  {
   "cell_type": "code",
   "execution_count": null,
   "metadata": {
    "ExecuteTime": {
     "end_time": "2020-01-28T12:22:13.523879Z",
     "start_time": "2020-01-28T12:22:13.517860Z"
    }
   },
   "outputs": [],
   "source": [
    "corpus[0]"
   ]
  },
  {
   "cell_type": "code",
   "execution_count": null,
   "metadata": {
    "ExecuteTime": {
     "end_time": "2020-01-28T12:21:57.577381Z",
     "start_time": "2020-01-28T12:21:57.571396Z"
    }
   },
   "outputs": [],
   "source": [
    "corpus_tfidf[0]"
   ]
  },
  {
   "cell_type": "code",
   "execution_count": null,
   "metadata": {
    "ExecuteTime": {
     "start_time": "2020-01-28T12:22:55.653Z"
    }
   },
   "outputs": [],
   "source": [
    "# with open(\"corpus_tfidf.txt\",\"w\") as f:\n",
    "#     for i in range(len(corpus_tfidf)):\n",
    "#         f.write(str(corpus_tfidf[i])+\"\\n\")"
   ]
  },
  {
   "cell_type": "markdown",
   "metadata": {},
   "source": [
    "# Regression"
   ]
  },
  {
   "cell_type": "markdown",
   "metadata": {},
   "source": [
    "## Directly use all features    "
   ]
  },
  {
   "cell_type": "code",
   "execution_count": 13,
   "metadata": {
    "ExecuteTime": {
     "end_time": "2020-01-29T03:20:57.845325Z",
     "start_time": "2020-01-29T03:20:57.841337Z"
    }
   },
   "outputs": [],
   "source": [
    "import random"
   ]
  },
  {
   "cell_type": "code",
   "execution_count": null,
   "metadata": {
    "ExecuteTime": {
     "end_time": "2020-01-26T06:28:47.211572Z",
     "start_time": "2020-01-26T06:28:44.775585Z"
    }
   },
   "outputs": [],
   "source": [
    "data_mat=np.array(pd.read_csv(\"data_mat2.csv\"))\n",
    "\n",
    "y=train['Sentiment'].tolist()\n",
    "y=np.array(y)\n",
    "y0=(y==2)*1\n",
    "\n",
    "x = np.concatenate((np.expand_dims(np.ones_like(data_mat[:,0],dtype=int),1),data_mat),axis=1)\n",
    "del(data_mat)"
   ]
  },
  {
   "cell_type": "markdown",
   "metadata": {
    "ExecuteTime": {
     "end_time": "2020-01-24T12:11:07.785360Z",
     "start_time": "2020-01-24T12:11:07.761421Z"
    }
   },
   "source": [
    "### logistic"
   ]
  },
  {
   "cell_type": "code",
   "execution_count": null,
   "metadata": {
    "ExecuteTime": {
     "end_time": "2020-01-26T06:22:26.534012Z",
     "start_time": "2020-01-26T06:22:26.512606Z"
    }
   },
   "outputs": [],
   "source": [
    "run logistic.py"
   ]
  },
  {
   "cell_type": "code",
   "execution_count": null,
   "metadata": {
    "ExecuteTime": {
     "end_time": "2020-01-26T13:57:20.089856Z",
     "start_time": "2020-01-26T13:57:20.086139Z"
    }
   },
   "outputs": [],
   "source": [
    "logi=np.zeros([20,3])\n",
    "i=0"
   ]
  },
  {
   "cell_type": "code",
   "execution_count": null,
   "metadata": {
    "ExecuteTime": {
     "end_time": "2020-01-26T14:48:46.475507Z",
     "start_time": "2020-01-26T14:00:32.544550Z"
    }
   },
   "outputs": [],
   "source": [
    "while i<20:\n",
    "    \n",
    "    train_inds=random.sample(range(len(x)),np.int(np.floor(len(x)/2)))\n",
    "    test_inds=list(set(range(len(x)))-set(train_inds))\n",
    "\n",
    "    x_train=x[train_inds,:]\n",
    "    x_test=x[test_inds,:]\n",
    "    y0_train=y0[train_inds]\n",
    "    y0_test=y0[test_inds]\n",
    "    \n",
    "    w0=np.random.randn(x.shape[1])\n",
    "    log_stoch_param=logistic_train(w0,x_train,y0_train,'stochastic',iter=100,epsilon=1e-5)\n",
    "    log_mini_param=logistic_train(w0,x_train,y0_train,'mini',iter=100,epsilon=1e-5)\n",
    "    log_full_param=logistic_train(w0,x_train,y0_train,'full',iter=100,epsilon=1e-5)\n",
    "    \n",
    "    logi[i,0]=logistic_valid(log_stoch_param[2],x_test,y0_test)[1]\n",
    "    logi[i,1]=logistic_valid(log_mini_param[2],x_test,y0_test)[1]\n",
    "    logi[i,2]=logistic_valid(log_full_param[2],x_test,y0_test)[1]\n",
    "    \n",
    "    print(\"已完成%d\" % (i+1),end='\\r')\n",
    "    \n",
    "    i+=1"
   ]
  },
  {
   "cell_type": "code",
   "execution_count": null,
   "metadata": {
    "ExecuteTime": {
     "end_time": "2020-01-26T14:49:04.824120Z",
     "start_time": "2020-01-26T14:49:04.740343Z"
    },
    "scrolled": true
   },
   "outputs": [],
   "source": [
    "with open(\"logistic.out\",\"a+\") as f:\n",
    "    for i in range(len(logi)):\n",
    "        f.write(str(logi[i,0])+\"\\t\"+str(logi[i,1])+\"\\t\"+str(logi[i,2])+\"\\n\")"
   ]
  },
  {
   "cell_type": "markdown",
   "metadata": {},
   "source": [
    "### softmax"
   ]
  },
  {
   "cell_type": "code",
   "execution_count": 10,
   "metadata": {
    "ExecuteTime": {
     "end_time": "2020-01-29T03:20:45.267721Z",
     "start_time": "2020-01-29T03:20:40.471753Z"
    }
   },
   "outputs": [
    {
     "name": "stderr",
     "output_type": "stream",
     "text": [
      "Using TensorFlow backend.\n"
     ]
    }
   ],
   "source": [
    "run softmax.py"
   ]
  },
  {
   "cell_type": "code",
   "execution_count": 11,
   "metadata": {
    "ExecuteTime": {
     "end_time": "2020-01-29T03:20:47.152321Z",
     "start_time": "2020-01-29T03:20:47.147305Z"
    }
   },
   "outputs": [],
   "source": [
    "def gen_y(y):\n",
    "    \n",
    "    y0=np.zeros([len(y),5],dtype=int)\n",
    "    for i in range(len(y)):\n",
    "        y0[i,y[i]]=1\n",
    "    \n",
    "    return(y0)"
   ]
  },
  {
   "cell_type": "code",
   "execution_count": 14,
   "metadata": {
    "ExecuteTime": {
     "end_time": "2020-01-29T03:21:05.495630Z",
     "start_time": "2020-01-29T03:21:01.763351Z"
    }
   },
   "outputs": [],
   "source": [
    "data_mat=np.array(pd.read_csv(\"data_mat2.csv\"))\n",
    "train=pd.read_table('train.tsv',sep='\\t')\n",
    "\n",
    "y=train['Sentiment'].tolist()\n",
    "y=np.array(y)\n",
    "y=gen_y(y)\n",
    "\n",
    "x = np.concatenate((np.expand_dims(np.ones_like(data_mat[:,0],dtype=int),1),data_mat),axis=1)\n",
    "del(data_mat)\n",
    "    \n",
    "train_inds=random.sample(range(len(x)),np.int(np.floor(len(x)/2)))\n",
    "test_inds=list(set(range(len(x)))-set(train_inds))\n",
    "\n",
    "x_train=x[train_inds,:]\n",
    "x_test=x[test_inds,:]\n",
    "y_train=y[train_inds,:]\n",
    "y_test=y[test_inds,:]\n",
    "    "
   ]
  },
  {
   "cell_type": "code",
   "execution_count": 16,
   "metadata": {
    "ExecuteTime": {
     "end_time": "2020-01-29T03:23:12.707898Z",
     "start_time": "2020-01-29T03:23:00.966801Z"
    }
   },
   "outputs": [
    {
     "data": {
      "text/plain": [
       "(1.5982346091823456,\n",
       " 0.21410568584732367,\n",
       " array([[-0.01981349, -0.00999102,  0.01982851,  0.01986846, -0.00989246],\n",
       "        [ 0.        ,  0.        ,  0.        ,  0.        ,  0.        ],\n",
       "        [-0.00199599, -0.00201605,  0.00800401, -0.00199599, -0.00199599],\n",
       "        ...,\n",
       "        [ 0.        ,  0.        ,  0.        ,  0.        ,  0.        ],\n",
       "        [ 0.        ,  0.        ,  0.        ,  0.        ,  0.        ],\n",
       "        [ 0.        ,  0.        ,  0.        ,  0.        ,  0.        ]]),\n",
       " 10)"
      ]
     },
     "execution_count": 16,
     "metadata": {},
     "output_type": "execute_result"
    }
   ],
   "source": [
    "w0=np.zeros([x.shape[1],5])\n",
    "soft_train(w0,x_train,y_train,'stochastic',lr=0.01,iter=10,epsilon=1e-5)"
   ]
  },
  {
   "cell_type": "code",
   "execution_count": 17,
   "metadata": {
    "ExecuteTime": {
     "end_time": "2020-01-29T03:23:30.783669Z",
     "start_time": "2020-01-29T03:23:18.839167Z"
    }
   },
   "outputs": [
    {
     "data": {
      "text/plain": [
       "(1.5955946825515923,\n",
       " 0.5092485796061343,\n",
       " array([[-1.52841089e-02, -2.30895905e-03,  3.04837053e-02,\n",
       "          9.74056841e-04, -1.38646943e-02],\n",
       "        [-6.50591831e-05, -1.62659990e-06,  4.63638193e-06,\n",
       "          8.73634991e-05, -2.53140981e-05],\n",
       "        [-8.93747800e-04,  5.64917100e-04,  5.80116258e-04,\n",
       "          4.61983809e-04, -7.13269367e-04],\n",
       "        ...,\n",
       "        [-5.25159060e-05, -2.17441577e-05,  5.51882632e-05,\n",
       "          3.26835581e-05, -1.36117576e-05],\n",
       "        [-1.87369635e-06,  5.74031771e-06,  4.16606567e-05,\n",
       "         -2.54597082e-05, -2.00675698e-05],\n",
       "        [-2.04342449e-06,  5.71718685e-06,  4.78005518e-06,\n",
       "         -3.81066927e-06, -4.64314826e-06]]),\n",
       " 10)"
      ]
     },
     "execution_count": 17,
     "metadata": {},
     "output_type": "execute_result"
    }
   ],
   "source": [
    "soft_train(w0,x_train,y_train,'mini',lr=0.01,iter=10,epsilon=1e-5)"
   ]
  },
  {
   "cell_type": "code",
   "execution_count": 18,
   "metadata": {
    "ExecuteTime": {
     "end_time": "2020-01-29T03:23:47.202559Z",
     "start_time": "2020-01-29T03:23:34.944461Z"
    }
   },
   "outputs": [
    {
     "data": {
      "text/plain": [
       "(1.595507772482674,\n",
       " 0.5105728565936178,\n",
       " array([[-1.53857910e-02, -2.45641850e-03,  3.05206888e-02,\n",
       "          1.14635358e-03, -1.38248329e-02],\n",
       "        [-6.62636776e-05, -1.33572554e-05,  1.61359795e-05,\n",
       "          7.62819738e-05, -1.27970204e-05],\n",
       "        [-8.32518247e-04,  4.89265118e-04,  5.35325004e-04,\n",
       "          5.13982937e-04, -7.06054812e-04],\n",
       "        ...,\n",
       "        [-5.58180546e-05, -2.34139333e-05,  8.09038440e-05,\n",
       "          1.96515785e-05, -2.13234346e-05],\n",
       "        [-1.89548844e-06, -2.04671013e-06,  3.90329255e-05,\n",
       "         -1.76325684e-05, -1.74581585e-05],\n",
       "        [-3.07297451e-06,  7.25962058e-06,  3.72985583e-06,\n",
       "         -3.11251760e-06, -4.80398431e-06]]),\n",
       " 10)"
      ]
     },
     "execution_count": 18,
     "metadata": {},
     "output_type": "execute_result"
    }
   ],
   "source": [
    "soft_train(w0,x_train,y_train,'full',lr=0.01,iter=10,epsilon=1e-5)"
   ]
  },
  {
   "cell_type": "code",
   "execution_count": 21,
   "metadata": {
    "ExecuteTime": {
     "end_time": "2020-01-29T03:26:33.878500Z",
     "start_time": "2020-01-29T03:26:33.761098Z"
    }
   },
   "outputs": [
    {
     "data": {
      "text/plain": [
       "(10, 333)"
      ]
     },
     "execution_count": 21,
     "metadata": {},
     "output_type": "execute_result"
    }
   ],
   "source": [
    "train_inds=random.sample(range(len(x)),np.int(np.floor(len(x)/2)))\n",
    "test_inds=list(set(range(len(x)))-set(train_inds))\n",
    "x[train_inds[:10],:].shape"
   ]
  },
  {
   "cell_type": "code",
   "execution_count": null,
   "metadata": {},
   "outputs": [],
   "source": [
    "w0=np.random.randn(x.shape[1],5)\n",
    "soft_stoch_param=soft_train(w0,x_train,y_train,'stochastic',lr=0.01,iter=100,epsilon=1e-5)\n",
    "soft_mini_param=soft_train(w0,x_train,y_train,'mini',lr=0.01,iter=100,epsilon=1e-5)\n",
    "soft_full_param=soft_train(w0,x_train,y_train,'full',lr=0.01,iter=100,epsilon=1e-5)\n",
    "    \n",
    "soft[i,0]=soft_valid(soft_stoch_param[2],x_test,y_test)[1]\n",
    "soft[i,1]=soft_valid(soft_mini_param[2],x_test,y_test)[1]\n",
    "soft[i,2]=soft_valid(soft_full_param[2],x_test,y_test)[1]"
   ]
  },
  {
   "cell_type": "code",
   "execution_count": null,
   "metadata": {
    "ExecuteTime": {
     "end_time": "2020-01-27T08:25:15.269008Z",
     "start_time": "2020-01-27T08:21:59.358591Z"
    }
   },
   "outputs": [],
   "source": [
    "soft=np.zeros([5,3])\n",
    "i=0\n",
    "\n",
    "while i<5:\n",
    "    \n",
    "    train_inds=random.sample(range(len(x)),np.int(np.floor(len(x)/2)))\n",
    "    test_inds=list(set(range(len(x)))-set(train_inds))\n",
    "\n",
    "    x_train=x[train_inds,:]\n",
    "    x_test=x[test_inds,:]\n",
    "    y_train=y[train_inds,:]\n",
    "    y_test=y[test_inds,:]\n",
    "    \n",
    "    w0=np.zeros([x.shape[1],5])\n",
    "    soft_stoch_param=soft_train(w0,x_train,y_train,'stochastic',lr=0.01,iter=10,epsilon=1e-5)\n",
    "    soft_mini_param=soft_train(w0,x_train,y_train,'mini',lr=0.01,iter=10,epsilon=1e-5)\n",
    "    soft_full_param=soft_train(w0,x_train,y_train,'full',lr=0.01,iter=10,epsilon=1e-5)\n",
    "    \n",
    "    soft[i,0]=soft_valid(soft_stoch_param[2],x_test,y_test)[1]\n",
    "    soft[i,1]=soft_valid(soft_mini_param[2],x_test,y_test)[1]\n",
    "    soft[i,2]=soft_valid(soft_full_param[2],x_test,y_test)[1]\n",
    "    \n",
    "    print(\"已完成%d\" % (i+1),end='\\r')\n",
    "    \n",
    "    i+=1"
   ]
  },
  {
   "cell_type": "code",
   "execution_count": null,
   "metadata": {
    "ExecuteTime": {
     "end_time": "2020-01-27T08:25:51.205283Z",
     "start_time": "2020-01-27T08:25:51.184317Z"
    },
    "scrolled": true
   },
   "outputs": [],
   "source": [
    "soft"
   ]
  },
  {
   "cell_type": "code",
   "execution_count": null,
   "metadata": {},
   "outputs": [],
   "source": []
  },
  {
   "cell_type": "code",
   "execution_count": null,
   "metadata": {},
   "outputs": [],
   "source": []
  },
  {
   "cell_type": "code",
   "execution_count": null,
   "metadata": {},
   "outputs": [],
   "source": []
  },
  {
   "cell_type": "code",
   "execution_count": null,
   "metadata": {},
   "outputs": [],
   "source": []
  },
  {
   "cell_type": "code",
   "execution_count": null,
   "metadata": {
    "ExecuteTime": {
     "end_time": "2020-01-28T08:43:51.001565Z",
     "start_time": "2020-01-28T08:43:50.978867Z"
    }
   },
   "outputs": [],
   "source": [
    "out=pd.read_table('logistic_pca5.out',header=None)\n",
    "\n",
    "out[0].mean(),out[0].std()\n",
    "out[1].mean(),out[1].std()\n",
    "out[2].mean(),out[2].std()"
   ]
  },
  {
   "cell_type": "code",
   "execution_count": null,
   "metadata": {
    "ExecuteTime": {
     "end_time": "2020-01-28T01:43:05.509252Z",
     "start_time": "2020-01-28T01:43:05.438970Z"
    }
   },
   "outputs": [],
   "source": [
    "out=pd.read_table('softmax_pca3.out',header=None)\n",
    "\n",
    "out[0].mean(),out[0].std()\n",
    "out[1].mean(),out[1].std()\n",
    "out[2].mean(),out[2].std()"
   ]
  },
  {
   "cell_type": "code",
   "execution_count": 8,
   "metadata": {
    "ExecuteTime": {
     "end_time": "2020-01-28T14:06:06.974957Z",
     "start_time": "2020-01-28T14:06:06.947031Z"
    }
   },
   "outputs": [
    {
     "data": {
      "text/plain": [
       "(0.5040553633217992, 0.015276969053102453)"
      ]
     },
     "execution_count": 8,
     "metadata": {},
     "output_type": "execute_result"
    },
    {
     "data": {
      "text/plain": [
       "(0.5115828527489428, 0.012827255334056036)"
      ]
     },
     "execution_count": 8,
     "metadata": {},
     "output_type": "execute_result"
    },
    {
     "data": {
      "text/plain": [
       "(0.5099141355888761, 0.0011532802723499954)"
      ]
     },
     "execution_count": 8,
     "metadata": {},
     "output_type": "execute_result"
    }
   ],
   "source": [
    "out=pd.read_table('tfidf_logistic_pca3.out',header=None)\n",
    "\n",
    "out[0].mean(),out[0].std()\n",
    "out[1].mean(),out[1].std()\n",
    "out[2].mean(),out[2].std()"
   ]
  },
  {
   "cell_type": "code",
   "execution_count": 23,
   "metadata": {
    "ExecuteTime": {
     "end_time": "2020-01-29T03:28:48.718958Z",
     "start_time": "2020-01-29T03:28:48.702547Z"
    }
   },
   "outputs": [
    {
     "data": {
      "text/plain": [
       "(0.5041484044598231, 0.04140480975443672)"
      ]
     },
     "execution_count": 23,
     "metadata": {},
     "output_type": "execute_result"
    },
    {
     "data": {
      "text/plain": [
       "(0.5100581827502243, 0.0012228038999225503)"
      ]
     },
     "execution_count": 23,
     "metadata": {},
     "output_type": "execute_result"
    },
    {
     "data": {
      "text/plain": [
       "(0.5100581827502243, 0.0012228038999225503)"
      ]
     },
     "execution_count": 23,
     "metadata": {},
     "output_type": "execute_result"
    }
   ],
   "source": [
    "out=pd.read_table('tfidf_softmax3.out',header=None)\n",
    "\n",
    "out[0].mean(),out[0].std()\n",
    "out[1].mean(),out[1].std()\n",
    "out[2].mean(),out[2].std()"
   ]
  },
  {
   "cell_type": "code",
   "execution_count": 77,
   "metadata": {
    "ExecuteTime": {
     "end_time": "2020-01-30T03:50:49.319177Z",
     "start_time": "2020-01-30T03:50:49.239546Z"
    }
   },
   "outputs": [
    {
     "data": {
      "text/plain": [
       "(0.4970900935537613, 0.06283589312887544)"
      ]
     },
     "execution_count": 77,
     "metadata": {},
     "output_type": "execute_result"
    },
    {
     "data": {
      "text/plain": [
       "(0.5097680379341278, 0.0014200524099675963)"
      ]
     },
     "execution_count": 77,
     "metadata": {},
     "output_type": "execute_result"
    },
    {
     "data": {
      "text/plain": [
       "(0.5097680379341278, 0.0014200524099675963)"
      ]
     },
     "execution_count": 77,
     "metadata": {},
     "output_type": "execute_result"
    }
   ],
   "source": [
    "out=pd.read_table('tfidf_softmax_pca3.out',header=None)\n",
    "\n",
    "out[0].mean(),out[0].std()\n",
    "out[1].mean(),out[1].std()\n",
    "out[2].mean(),out[2].std()"
   ]
  },
  {
   "cell_type": "code",
   "execution_count": null,
   "metadata": {},
   "outputs": [],
   "source": []
  },
  {
   "cell_type": "markdown",
   "metadata": {},
   "source": [
    "# Use Tookit"
   ]
  },
  {
   "cell_type": "markdown",
   "metadata": {},
   "source": [
    "## Raw Data"
   ]
  },
  {
   "cell_type": "code",
   "execution_count": 26,
   "metadata": {
    "ExecuteTime": {
     "end_time": "2020-01-29T08:14:03.439074Z",
     "start_time": "2020-01-29T08:14:03.435570Z"
    }
   },
   "outputs": [],
   "source": [
    "from sklearn.linear_model import LinearRegression,LogisticRegression,Ridge,RidgeCV,Lasso, LassoCV\n",
    "from sklearn.model_selection import train_test_split,GridSearchCV,cross_val_score,cross_validate\n",
    "from sklearn import  metrics as mt"
   ]
  },
  {
   "cell_type": "code",
   "execution_count": 58,
   "metadata": {
    "ExecuteTime": {
     "end_time": "2020-01-29T14:34:33.692781Z",
     "start_time": "2020-01-29T14:34:26.968861Z"
    }
   },
   "outputs": [],
   "source": [
    "data_mat=np.array(pd.read_csv(\"data_mat2.csv\"))\n",
    "train=pd.read_table('train.tsv',sep='\\t')\n",
    "\n",
    "y=train['Sentiment'].tolist()\n",
    "y=np.array(y)\n",
    "# y=gen_y(y)\n",
    "y0=(y==2)*1\n",
    "# x = np.concatenate((np.expand_dims(np.ones_like(data_mat[:,0]),1),data_mat),axis=1)\n",
    "x=data_mat\n",
    "del(data_mat)"
   ]
  },
  {
   "cell_type": "code",
   "execution_count": 59,
   "metadata": {
    "ExecuteTime": {
     "end_time": "2020-01-29T14:34:36.633292Z",
     "start_time": "2020-01-29T14:34:36.625347Z"
    }
   },
   "outputs": [
    {
     "data": {
      "text/plain": [
       "(156060, 332)"
      ]
     },
     "execution_count": 59,
     "metadata": {},
     "output_type": "execute_result"
    }
   ],
   "source": [
    "x.shape"
   ]
  },
  {
   "cell_type": "code",
   "execution_count": 88,
   "metadata": {
    "ExecuteTime": {
     "end_time": "2020-01-31T05:38:30.270625Z",
     "start_time": "2020-01-31T05:38:25.934429Z"
    }
   },
   "outputs": [],
   "source": [
    "test_inds=random.sample(range(len(x)),np.int(np.floor(len(x)/4)))\n",
    "train_inds=list(set(range(len(x)))-set(test_inds))\n",
    "\n",
    "x_train=x[train_inds,:]\n",
    "x_test=x[test_inds,:]\n",
    "y_train=y[train_inds]\n",
    "y_test=y[test_inds]\n",
    "y0_train=y0[train_inds]\n",
    "y0_test=y0[test_inds]"
   ]
  },
  {
   "cell_type": "code",
   "execution_count": 32,
   "metadata": {
    "ExecuteTime": {
     "end_time": "2020-01-29T08:16:58.771116Z",
     "start_time": "2020-01-29T08:16:58.754163Z"
    }
   },
   "outputs": [],
   "source": [
    "# data_train,data_test = train_test_split(x,test_size=0.5)\n",
    "\n",
    "# data_test.shape\n",
    "# data_train.shape"
   ]
  },
  {
   "cell_type": "code",
   "execution_count": 89,
   "metadata": {
    "ExecuteTime": {
     "end_time": "2020-01-31T05:39:39.562526Z",
     "start_time": "2020-01-31T05:38:31.824464Z"
    },
    "scrolled": true
   },
   "outputs": [
    {
     "data": {
      "text/plain": [
       "LogisticRegression(C=1.0, class_weight=None, dual=False, fit_intercept=True,\n",
       "                   intercept_scaling=1, l1_ratio=None, max_iter=100,\n",
       "                   multi_class='multinomial', n_jobs=None, penalty='l2',\n",
       "                   random_state=None, solver='sag', tol=0.0001, verbose=0,\n",
       "                   warm_start=False)"
      ]
     },
     "execution_count": 89,
     "metadata": {},
     "output_type": "execute_result"
    },
    {
     "data": {
      "text/plain": [
       "LogisticRegression(C=1.0, class_weight=None, dual=False, fit_intercept=True,\n",
       "                   intercept_scaling=1, l1_ratio=None, max_iter=100,\n",
       "                   multi_class='ovr', n_jobs=None, penalty='l2',\n",
       "                   random_state=None, solver='sag', tol=0.0001, verbose=0,\n",
       "                   warm_start=False)"
      ]
     },
     "execution_count": 89,
     "metadata": {},
     "output_type": "execute_result"
    }
   ],
   "source": [
    "model_soft = LogisticRegression(multi_class='multinomial',solver='sag')  \n",
    "model_soft.fit(x_train, y_train)\n",
    "model_log = LogisticRegression(multi_class='ovr',solver='sag')  \n",
    "model_log.fit(x_train, y0_train)"
   ]
  },
  {
   "cell_type": "code",
   "execution_count": 90,
   "metadata": {
    "ExecuteTime": {
     "end_time": "2020-01-31T05:39:49.819408Z",
     "start_time": "2020-01-31T05:39:49.443860Z"
    }
   },
   "outputs": [
    {
     "data": {
      "text/plain": [
       "0.6710239651416122"
      ]
     },
     "execution_count": 90,
     "metadata": {},
     "output_type": "execute_result"
    },
    {
     "data": {
      "text/plain": [
       "0.5656542355504294"
      ]
     },
     "execution_count": 90,
     "metadata": {},
     "output_type": "execute_result"
    }
   ],
   "source": [
    "np.mean(model_log.predict(x_test)==y0_test)\n",
    "np.mean(model_soft.predict(x_test)==y_test)"
   ]
  },
  {
   "cell_type": "code",
   "execution_count": 71,
   "metadata": {
    "ExecuteTime": {
     "end_time": "2020-01-30T03:15:56.296039Z",
     "start_time": "2020-01-30T03:15:48.705825Z"
    }
   },
   "outputs": [],
   "source": [
    "data_mat=np.array(pd.read_csv(\"data_mat2.csv\"))\n",
    "train=pd.read_table('train.tsv',sep='\\t')\n",
    "\n",
    "y=train['Sentiment'].tolist()\n",
    "y=np.array(y)\n",
    "# y=gen_y(y)\n",
    "y0=(y==2)*1\n",
    "# x = np.concatenate((np.expand_dims(np.ones_like(data_mat[:,0]),1),data_mat),axis=1)\n",
    "x=data_mat\n",
    "del(data_mat)\n",
    "\n",
    "logi=[]\n",
    "soft=[]\n",
    "\n",
    "for i in range(10):\n",
    "    train_inds=random.sample(range(len(x)),np.int(np.floor(len(x)/2)))\n",
    "    test_inds=list(set(range(len(x)))-set(train_inds))\n",
    "\n",
    "    x_train=x[train_inds,:]\n",
    "    x_test=x[test_inds,:]\n",
    "    y_train=y[train_inds]\n",
    "    y_test=y[test_inds]\n",
    "    y0_train=y0[train_inds]\n",
    "    y0_test=y0[test_inds]\n",
    "    \n",
    "    model_soft = LogisticRegression(multi_class='multinomial',solver='sag')  \n",
    "    model_soft.fit(x_train, y_train)\n",
    "    model_log = LogisticRegression(multi_class='ovr',solver='sag')  \n",
    "    model_log.fit(x_train, y0_train)\n",
    "    \n",
    "    logi.append(np.mean(model_log.predict(x_test)==y0_test))\n",
    "    soft.append(np.mean(model_soft.predict(x_test)==y_test))\n",
    "\n",
    "with open(\"tookit.raw\",\"a+\") as f:\n",
    "    for i in range(10):\n",
    "        f.write(str(logi[i])+\"\\t\"+str(soft[i])+\"\\n\")"
   ]
  },
  {
   "cell_type": "markdown",
   "metadata": {},
   "source": [
    "## PCA on Raw Data"
   ]
  },
  {
   "cell_type": "code",
   "execution_count": null,
   "metadata": {},
   "outputs": [],
   "source": []
  },
  {
   "cell_type": "code",
   "execution_count": null,
   "metadata": {},
   "outputs": [],
   "source": []
  },
  {
   "cell_type": "code",
   "execution_count": null,
   "metadata": {},
   "outputs": [],
   "source": []
  },
  {
   "cell_type": "code",
   "execution_count": null,
   "metadata": {},
   "outputs": [],
   "source": []
  },
  {
   "cell_type": "code",
   "execution_count": 87,
   "metadata": {
    "ExecuteTime": {
     "end_time": "2020-01-30T15:33:37.509686Z",
     "start_time": "2020-01-30T15:33:37.493126Z"
    }
   },
   "outputs": [
    {
     "data": {
      "text/plain": [
       "(0.6269, 0.0015)"
      ]
     },
     "execution_count": 87,
     "metadata": {},
     "output_type": "execute_result"
    },
    {
     "data": {
      "text/plain": [
       "(0.5322, 0.0013)"
      ]
     },
     "execution_count": 87,
     "metadata": {},
     "output_type": "execute_result"
    }
   ],
   "source": [
    "out=pd.read_table('toolkit.pca_tfidf',header=None)\n",
    "round(out[0].mean(),4),round(out[0].std(),4)\n",
    "round(out[1].mean(),4),round(out[1].std(),4)"
   ]
  }
 ],
 "metadata": {
  "hide_input": false,
  "kernelspec": {
   "display_name": "Python 3 (tf2.0)",
   "language": "python",
   "name": "tensorflow"
  },
  "language_info": {
   "codemirror_mode": {
    "name": "ipython",
    "version": 3
   },
   "file_extension": ".py",
   "mimetype": "text/x-python",
   "name": "python",
   "nbconvert_exporter": "python",
   "pygments_lexer": "ipython3",
   "version": "3.7.6"
  },
  "latex_envs": {
   "LaTeX_envs_menu_present": true,
   "autoclose": false,
   "autocomplete": true,
   "bibliofile": "biblio.bib",
   "cite_by": "apalike",
   "current_citInitial": 1,
   "eqLabelWithNumbers": true,
   "eqNumInitial": 1,
   "hotkeys": {
    "equation": "Ctrl-E",
    "itemize": "Ctrl-I"
   },
   "labels_anchors": false,
   "latex_user_defs": false,
   "report_style_numbering": false,
   "user_envs_cfg": false
  },
  "toc": {
   "base_numbering": 1,
   "nav_menu": {},
   "number_sections": true,
   "sideBar": true,
   "skip_h1_title": false,
   "title_cell": "Table of Contents",
   "title_sidebar": "Contents",
   "toc_cell": false,
   "toc_position": {
    "height": "638px",
    "left": "478px",
    "top": "136px",
    "width": "288px"
   },
   "toc_section_display": true,
   "toc_window_display": true
  },
  "varInspector": {
   "cols": {
    "lenName": 16,
    "lenType": 16,
    "lenVar": 40
   },
   "kernels_config": {
    "python": {
     "delete_cmd_postfix": "",
     "delete_cmd_prefix": "del ",
     "library": "var_list.py",
     "varRefreshCmd": "print(var_dic_list())"
    },
    "r": {
     "delete_cmd_postfix": ") ",
     "delete_cmd_prefix": "rm(",
     "library": "var_list.r",
     "varRefreshCmd": "cat(var_dic_list()) "
    }
   },
   "position": {
    "height": "321.333px",
    "left": "1070px",
    "right": "20px",
    "top": "120px",
    "width": "350px"
   },
   "types_to_exclude": [
    "module",
    "function",
    "builtin_function_or_method",
    "instance",
    "_Feature"
   ],
   "window_display": false
  }
 },
 "nbformat": 4,
 "nbformat_minor": 2
}

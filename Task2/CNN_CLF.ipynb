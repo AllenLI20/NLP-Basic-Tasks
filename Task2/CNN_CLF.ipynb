{
 "cells": [
  {
   "cell_type": "markdown",
   "metadata": {},
   "source": [
    "# Text Classification by CNN"
   ]
  },
  {
   "cell_type": "code",
   "execution_count": 1,
   "metadata": {
    "ExecuteTime": {
     "end_time": "2020-02-13T12:26:58.213699Z",
     "start_time": "2020-02-13T12:25:18.449829Z"
    }
   },
   "outputs": [],
   "source": [
    "import gensim\n",
    "word2vec = gensim.models.KeyedVectors.load_word2vec_format(\"GoogleNews-vectors-negative300.bin.gz\", binary=True)"
   ]
  },
  {
   "cell_type": "markdown",
   "metadata": {},
   "source": [
    "## Word2Vec 转化为矩阵 "
   ]
  },
  {
   "cell_type": "code",
   "execution_count": 4,
   "metadata": {
    "ExecuteTime": {
     "end_time": "2020-02-13T12:28:22.042685Z",
     "start_time": "2020-02-13T12:28:19.502886Z"
    }
   },
   "outputs": [],
   "source": [
    "import pandas as pd\n",
    "# import nltk\n",
    "import string\n",
    "# import re\n",
    "import numpy as np\n",
    "import random"
   ]
  },
  {
   "cell_type": "code",
   "execution_count": 6,
   "metadata": {
    "ExecuteTime": {
     "end_time": "2020-02-13T12:32:39.044912Z",
     "start_time": "2020-02-13T12:32:38.884668Z"
    }
   },
   "outputs": [],
   "source": [
    "data=pd.read_table('train.tsv',sep='\\t')\n",
    "# texts=data['Phrase'].tolist()\n",
    "data_y=data[\"Sentiment\"]\n",
    "data_y=np.array(data_y)\n",
    "N=len(data_y)"
   ]
  },
  {
   "cell_type": "code",
   "execution_count": null,
   "metadata": {
    "ExecuteTime": {
     "end_time": "2020-02-11T08:17:21.391391Z",
     "start_time": "2020-02-11T08:17:21.382382Z"
    }
   },
   "outputs": [],
   "source": [
    "#string.punctuation中包含英文的标点，我们将其放在待去除变量remove中\n",
    "#函数需要三个参数，前两个表示字符的映射，我们是不需要的。\n",
    "# remove = str.maketrans('','',string.punctuation) \n",
    "# x = data_x[0].translate(remove)\n",
    "# x\n",
    "# len(x.split())\n",
    "# len(nltk.word_tokenize(x))\n",
    "\n",
    "stopwords = ('-',',','.',';',':',\"'\")  # 停词\n",
    "stoptags = ['CC','CD','IN','TO','PRP','PDT','DT','PRP$','WRB'] # 词性\n",
    "\n",
    "words_ls = []\n",
    "i=1\n",
    "for text in texts:\n",
    "    if i%100 == 0:\n",
    "        print(\"当前已完成%.2f\" % (i*100/156060)+'%',end='\\r')\n",
    "    words = [word for word in nltk.word_tokenize(text) if (word not in stopwords) and re.findall(re.compile(r'\\d+'),word)==[] and (nltk.pos_tag([word])[0][1] not in stoptags)]\n",
    "    words_ls.append(words)\n",
    "    i+=1"
   ]
  },
  {
   "cell_type": "code",
   "execution_count": null,
   "metadata": {
    "ExecuteTime": {
     "start_time": "2020-02-11T14:03:46.112Z"
    }
   },
   "outputs": [],
   "source": [
    "# with open(\"words_ls.txt\",\"w\") as f:\n",
    "#     for words in words_ls:\n",
    "#         f.write(str(words)+\"\\n\")"
   ]
  },
  {
   "cell_type": "code",
   "execution_count": 7,
   "metadata": {
    "ExecuteTime": {
     "end_time": "2020-02-13T12:32:44.539647Z",
     "start_time": "2020-02-13T12:32:43.289318Z"
    }
   },
   "outputs": [
    {
     "name": "stdout",
     "output_type": "stream",
     "text": [
      "当前已完成99.96%\r"
     ]
    }
   ],
   "source": [
    "stopwords = ('-',',','.',';',':',\"'\",'?')  # 停词\n",
    "\n",
    "texts=data['Phrase'].tolist()\n",
    "words_ls2 = []\n",
    "i=1\n",
    "for text in texts:\n",
    "    remove = str.maketrans('','',string.punctuation) \n",
    "    text = text.translate(remove)\n",
    "    if i%100 == 0:\n",
    "        print(\"当前已完成%.2f\" % (i*100/156060)+'%',end='\\r')\n",
    "    words = [word for word in text.split() if (word not in stopwords)]\n",
    "    words_ls2.append(words)\n",
    "    i+=1\n",
    "\n",
    "# with open(\"words_ls2.txt\",\"w\") as f:\n",
    "#     for words in words_ls2:\n",
    "#         f.write(str(words)+\"\\n\")"
   ]
  },
  {
   "cell_type": "code",
   "execution_count": null,
   "metadata": {
    "ExecuteTime": {
     "end_time": "2020-02-13T03:40:31.638003Z",
     "start_time": "2020-02-13T03:40:27.541992Z"
    }
   },
   "outputs": [],
   "source": [
    "words_ls=pd.read_table('words_ls.txt',header=None)[0]\n",
    "words_ls=[eval(words) for words in words_ls]\n",
    "\n",
    "word_maxlen=0\n",
    "for words in words_ls:\n",
    "    word_maxlen=max(word_maxlen,len(words))"
   ]
  },
  {
   "cell_type": "markdown",
   "metadata": {},
   "source": [
    "## 构建CNN框架"
   ]
  },
  {
   "cell_type": "code",
   "execution_count": null,
   "metadata": {
    "ExecuteTime": {
     "end_time": "2020-02-13T03:38:23.423645Z",
     "start_time": "2020-02-13T03:38:18.967675Z"
    }
   },
   "outputs": [],
   "source": [
    "import torch\n",
    "import torch.nn as nn\n",
    "import torchvision\n",
    "# import matplotlib.pyplot as plt\n",
    "# %matplotlib inline\n",
    "import torch.utils.data as Data"
   ]
  },
  {
   "cell_type": "code",
   "execution_count": null,
   "metadata": {
    "ExecuteTime": {
     "end_time": "2020-02-13T03:40:48.269802Z",
     "start_time": "2020-02-13T03:40:48.264814Z"
    }
   },
   "outputs": [],
   "source": [
    "# Hyper Parameters\n",
    "LEN_SEN = word_maxlen\n",
    "VEC_LEN = 300"
   ]
  },
  {
   "cell_type": "code",
   "execution_count": null,
   "metadata": {
    "ExecuteTime": {
     "end_time": "2020-02-13T03:39:01.126475Z",
     "start_time": "2020-02-13T03:39:01.110464Z"
    }
   },
   "outputs": [],
   "source": [
    "class CNN(nn.Module):\n",
    "    def __init__(self,n_window = 3,vec_len=300):\n",
    "        self.window = n_window\n",
    "        self.vec_len = vec_len\n",
    "        super(CNN, self).__init__()\n",
    "        self.conv1 = nn.Sequential(         # input shape (1, 28, 28)\n",
    "            nn.Conv2d(\n",
    "                in_channels=1,              # input height\n",
    "                out_channels=16,            # n_filters\n",
    "                kernel_size=(self.window,self.vec_len),              # filter size\n",
    "                stride=(1,self.vec_len),                   # filter movement/step\n",
    "                # padding=2,                  # if want same width and length of this image after Conv2d, padding=(kernel_size-1)/2 if stride=1\n",
    "            ),                              # output shape (16, 28, 28)\n",
    "            nn.ReLU(),                      # activation\n",
    "            nn.MaxPool2d(kernel_size=(LEN_SEN-self.window+1,1),stride=(LEN_SEN-self.window+1,1)),    # choose max value in 2x2 area, output shape (16, 14, 14)\n",
    "        )\n",
    "\n",
    "        self.out = nn.Linear(16, 5)   # fully connected layer, output 10 classes\n",
    "\n",
    "    def forward(self, x):\n",
    "        x = self.conv1(x)\n",
    "        x = x.view(x.size(0), -1)           # flatten the output of conv2 to (batch_size, 32 * 7 * 7)\n",
    "        output = self.out(x)\n",
    "        return output, x    # return x for visualization"
   ]
  },
  {
   "cell_type": "code",
   "execution_count": null,
   "metadata": {
    "ExecuteTime": {
     "end_time": "2020-02-12T07:38:36.237371Z",
     "start_time": "2020-02-12T07:38:36.233378Z"
    }
   },
   "outputs": [],
   "source": [
    "cnn = CNN(vec_len=200)\n",
    "print(cnn)  # net architecture"
   ]
  },
  {
   "cell_type": "code",
   "execution_count": null,
   "metadata": {},
   "outputs": [],
   "source": []
  },
  {
   "cell_type": "markdown",
   "metadata": {},
   "source": [
    "### 生成训练集batch"
   ]
  },
  {
   "cell_type": "code",
   "execution_count": null,
   "metadata": {
    "ExecuteTime": {
     "end_time": "2020-02-11T11:43:41.873475Z",
     "start_time": "2020-02-11T11:43:41.865496Z"
    }
   },
   "outputs": [],
   "source": [
    "wordvec=np.zeros([BATCH_SIZE,1,word_maxlen,300]) # dimension \n",
    "for i in range(BATCH_SIZE):\n",
    "    words=words_ls[i]\n",
    "    n=len(words)\n",
    "    if n>0: \n",
    "        try:\n",
    "            wordvec[i,0,:n,:]=word2vec[words]\n",
    "        except KeyError:\n",
    "            for h in range(n):\n",
    "                try:\n",
    "                    wordvec[i,0,h,:]=word2vec[words[h]].reshape(1,300)\n",
    "                except KeyError:\n",
    "                    wordvec[i,0,h,:]=np.random.randn(1,300)/10\n",
    "\n",
    "# 到此 wordvec的type还是np.array\n",
    "# need to convert to torch.tensor"
   ]
  },
  {
   "cell_type": "code",
   "execution_count": null,
   "metadata": {
    "ExecuteTime": {
     "end_time": "2020-02-13T03:46:14.274902Z",
     "start_time": "2020-02-13T03:46:14.237992Z"
    }
   },
   "outputs": [],
   "source": [
    "def wv_to_tensor(inds,t_height=word_maxlen,v_length=VEC_LEN,WV=word2vec):\n",
    "    l=len(inds)\n",
    "    wordvec=np.zeros([l,1,t_height,v_length]) # dimension \n",
    "    for i in range(l):\n",
    "        words=words_ls[inds[i]]\n",
    "        n=len(words)\n",
    "        if n>0: \n",
    "            try:\n",
    "                wordvec[i,0,:n,:]=WV[words]\n",
    "            except KeyError:\n",
    "                for h in range(n):\n",
    "                    try:\n",
    "                        wordvec[i,0,h,:]=WV[words[h]].reshape(1,v_length)\n",
    "                    except KeyError:\n",
    "                        wordvec[i,0,h,:]=np.random.randn(1,v_length)/10\n",
    "                        # 到此 wordvec的type还是np.array, need to convert to torch.tensor\n",
    "    return torch.from_numpy(wordvec).to(torch.float32)"
   ]
  },
  {
   "cell_type": "code",
   "execution_count": null,
   "metadata": {},
   "outputs": [],
   "source": [
    "cnn=CNN()\n",
    "optimizer = torch.optim.Adam(cnn.parameters(), lr=LR)   # optimize all cnn parameters\n",
    "loss_func = nn.CrossEntropyLoss()                       # the target label is not one-hotted\n",
    "\n",
    "cnn(wv_to_tensor(inds=[1,2,3,4]))\n",
    "data_y[:4]\n",
    "\n",
    "loss=loss_func(cnn(wv_to_tensor(inds=[1,2,3,4]))[0],torch.from_numpy(data_y[:4]))\n",
    "loss\n",
    "optimizer.zero_grad()           # clear gradients for this training step\n",
    "loss.backward()                 # backpropagation, compute gradients\n",
    "optimizer.step()                # apply gradients"
   ]
  },
  {
   "cell_type": "code",
   "execution_count": null,
   "metadata": {
    "ExecuteTime": {
     "end_time": "2020-02-11T11:45:45.750610Z",
     "start_time": "2020-02-11T11:45:45.747656Z"
    },
    "scrolled": true
   },
   "outputs": [],
   "source": [
    "# # test chunk\n",
    "# mat=np.concatenate((np.arange(100).reshape(100,1),np.random.randint(5,size=100).reshape(100,1)),axis=1)\n",
    "# train_loader = Data.DataLoader(dataset=mat, batch_size=5, shuffle=True)\n",
    "\n",
    "# for step,x in enumerate(train_loader):\n",
    "#     if step%5==0:\n",
    "#         print('step'+str(step)+\"|\"+str(x))\n",
    "#         x[:,0].numpy()"
   ]
  },
  {
   "cell_type": "markdown",
   "metadata": {},
   "source": [
    "## Train/Test by Google WV"
   ]
  },
  {
   "cell_type": "code",
   "execution_count": null,
   "metadata": {
    "ExecuteTime": {
     "end_time": "2020-02-12T07:40:16.443018Z",
     "start_time": "2020-02-12T07:40:16.439289Z"
    }
   },
   "outputs": [],
   "source": [
    "# Hyper Parameters\n",
    "EPOCH = 2   \n",
    "BATCH_SIZE = 200\n",
    "LR = 0.01  # learning rate"
   ]
  },
  {
   "cell_type": "markdown",
   "metadata": {},
   "source": [
    "### window = 2"
   ]
  },
  {
   "cell_type": "code",
   "execution_count": null,
   "metadata": {
    "ExecuteTime": {
     "end_time": "2020-02-12T06:53:31.775146Z",
     "start_time": "2020-02-12T06:53:27.193656Z"
    }
   },
   "outputs": [],
   "source": [
    "# device = torch.device(\"cuda:0\" if torch.cuda.is_available() else \"cpu\")\n",
    "cnn = CNN(n_window=2)\n",
    "# cnn.to(device)\n",
    "optimizer = torch.optim.Adam(cnn.parameters(), lr=LR)   # optimize all cnn parameters\n",
    "loss_func = nn.CrossEntropyLoss()                       # the target label is not one-hotted\n",
    "\n",
    "train_inds=random.sample(range(N),np.int(np.floor(N*0.8)))\n",
    "test_inds=list(set(range(N))-set(train_inds))\n",
    "\n",
    "# training and testing\n",
    "\n",
    "mat=np.concatenate((np.arange(N).reshape(N,1),data_y.reshape(N,1)),axis=1)\n",
    "train_loader = Data.DataLoader(dataset=mat[train_inds,:], batch_size=BATCH_SIZE, shuffle=True)\n",
    "test_x=wv_to_tensor(mat[test_inds,0])\n",
    "test_y=torch.from_numpy(mat[test_inds,1])\n",
    "\n",
    "for epoch in range(EPOCH):\n",
    "    for step, batch_data in enumerate(train_loader):   # gives batch data, normalize x when iterate train_loader\n",
    "        b_x_ind = batch_data[:,0]  # batch x\n",
    "        b_y = batch_data[:,1]   # batch y\n",
    "        b_x = wv_to_tensor(b_x_ind)\n",
    "\n",
    "        output = cnn(b_x)[0]               # cnn output\n",
    "        loss = loss_func(output, b_y)   # cross entropy loss\n",
    "        optimizer.zero_grad()           # clear gradients for this training step\n",
    "        loss.backward()                 # backpropagation, compute gradients\n",
    "        optimizer.step()                # apply gradients\n",
    "\n",
    "        if step % 50 == 0:\n",
    "            test_output, last_layer = cnn(test_x)\n",
    "            pred_y = torch.max(test_output, 1)[1].data.squeeze()\n",
    "            accuracy = (pred_y == test_y).sum().item() / float(test_y.size(0))\n",
    "            print('Epoch: ', epoch, '| Step: ', step, '| train loss: %.4f' % loss.data, '| test accuracy: %.2f' % accuracy)"
   ]
  },
  {
   "cell_type": "code",
   "execution_count": null,
   "metadata": {},
   "outputs": [],
   "source": [
    "torch.save(cnn, 'cnn-w2.pkl')  # save entire net\n",
    "# torch.save(net1.state_dict(), 'net_params.pkl')   # save only the parameters"
   ]
  },
  {
   "cell_type": "code",
   "execution_count": null,
   "metadata": {},
   "outputs": [],
   "source": [
    "test_output, last_layer = cnn(test_x)\n",
    "torch.max(test_output, 1)[1].data.squeeze()\n",
    "(pred_y == test_y).sum().item() / float(test_y.size(0))"
   ]
  },
  {
   "cell_type": "markdown",
   "metadata": {},
   "source": [
    "### window = 3 "
   ]
  },
  {
   "cell_type": "code",
   "execution_count": null,
   "metadata": {
    "ExecuteTime": {
     "end_time": "2020-02-12T07:10:37.007934Z",
     "start_time": "2020-02-12T07:06:35.087205Z"
    }
   },
   "outputs": [],
   "source": [
    "# device = torch.device(\"cuda:0\" if torch.cuda.is_available() else \"cpu\")\n",
    "cnn = CNN(n_window=3)\n",
    "# cnn.to(device)\n",
    "optimizer = torch.optim.Adam(cnn.parameters(), lr=LR)   # optimize all cnn parameters\n",
    "loss_func = nn.CrossEntropyLoss()                       # the target label is not one-hotted\n",
    "\n",
    "train_inds=random.sample(range(N),np.int(np.floor(N*0.8)))\n",
    "test_inds=list(set(range(N))-set(train_inds))\n",
    "\n",
    "# training and testing\n",
    "\n",
    "mat=np.concatenate((np.arange(N).reshape(N,1),data_y.reshape(N,1)),axis=1)\n",
    "train_loader = Data.DataLoader(dataset=mat[train_inds,:], batch_size=BATCH_SIZE, shuffle=True)\n",
    "test_x=wv_to_tensor(mat[test_inds,0])\n",
    "test_y=torch.from_numpy(mat[test_inds,1])\n",
    "\n",
    "for epoch in range(EPOCH):\n",
    "    for step, batch_data in enumerate(train_loader):   # gives batch data, normalize x when iterate train_loader\n",
    "        b_x_ind = batch_data[:,0]  # batch x\n",
    "        b_y = batch_data[:,1]   # batch y\n",
    "        b_x = wv_to_tensor(b_x_ind)\n",
    "\n",
    "        output = cnn(b_x)[0]               # cnn output\n",
    "        loss = loss_func(output, b_y)   # cross entropy loss\n",
    "        optimizer.zero_grad()           # clear gradients for this training step\n",
    "        loss.backward()                 # backpropagation, compute gradients\n",
    "        optimizer.step()                # apply gradients\n",
    "\n",
    "        if step % 50 == 0:\n",
    "            test_output, last_layer = cnn(test_x)\n",
    "            pred_y = torch.max(test_output, 1)[1].data.squeeze()\n",
    "            accuracy = (pred_y == test_y).sum().item() / float(test_y.size(0))\n",
    "            print('Epoch: ', epoch, '| Step: ', step, '| train loss: %.4f' % loss.data, '| test accuracy: %.2f' % accuracy)"
   ]
  },
  {
   "cell_type": "code",
   "execution_count": null,
   "metadata": {
    "ExecuteTime": {
     "end_time": "2020-02-12T07:52:08.633418Z",
     "start_time": "2020-02-12T07:48:18.942674Z"
    }
   },
   "outputs": [],
   "source": [
    "torch.save(cnn, 'cnn-w3.pkl')  # save entire net"
   ]
  },
  {
   "cell_type": "markdown",
   "metadata": {},
   "source": [
    "### Functionalize"
   ]
  },
  {
   "cell_type": "code",
   "execution_count": null,
   "metadata": {
    "ExecuteTime": {
     "end_time": "2020-02-12T07:47:20.883804Z",
     "start_time": "2020-02-12T07:47:20.867847Z"
    }
   },
   "outputs": [],
   "source": [
    "def train(EPOCH = 2 ,BATCH_SIZE = 200,LR = 0.01,n_window = 3,wv=word2vec):\n",
    "    \n",
    "    cnn = CNN(n_window)\n",
    "    optimizer = torch.optim.Adam(cnn.parameters(), lr=LR)   # optimize all cnn parameters\n",
    "    loss_func = nn.CrossEntropyLoss()                       # the target label is not one-hotted\n",
    "\n",
    "    train_inds=random.sample(range(N),np.int(np.floor(N*0.8)))\n",
    "    test_inds=list(set(range(N))-set(train_inds))\n",
    "\n",
    "    mat=np.concatenate((np.arange(N).reshape(N,1),data_y.reshape(N,1)),axis=1)\n",
    "    train_loader = Data.DataLoader(dataset=mat[train_inds,:], batch_size=BATCH_SIZE, shuffle=True)\n",
    "    test_x=wv_to_tensor(inds=mat[test_inds,0],WV=wv)\n",
    "    test_y=torch.from_numpy(mat[test_inds,1])\n",
    "\n",
    "    for epoch in range(EPOCH):\n",
    "        for step, batch_data in enumerate(train_loader):   # gives batch data, normalize x when iterate train_loader\n",
    "            b_x_ind = batch_data[:,0]  # batch x\n",
    "            b_y = batch_data[:,1]   # batch y\n",
    "            b_x = wv_to_tensor(inds=b_x_ind,WV=wv)\n",
    "\n",
    "            output = cnn(b_x)[0]               # cnn output\n",
    "            loss = loss_func(output, b_y)   # cross entropy loss\n",
    "            optimizer.zero_grad()           # clear gradients for this training step\n",
    "            loss.backward()                 # backpropagation, compute gradients\n",
    "            optimizer.step()                # apply gradients\n",
    "\n",
    "            if step % 100 == 0:\n",
    "                test_output, last_layer = cnn(test_x)\n",
    "                pred_y = torch.max(test_output, 1)[1].data.squeeze()\n",
    "                accuracy = (pred_y == test_y).sum().item() / float(test_y.size(0))\n",
    "                print('Epoch: ', epoch, '| Step: ', step, '| train loss: %.4f' % loss.data, '| test accuracy: %.2f' % accuracy)\n",
    "    return (cnn,accuracy)"
   ]
  },
  {
   "cell_type": "code",
   "execution_count": null,
   "metadata": {
    "ExecuteTime": {
     "end_time": "2020-02-12T07:52:08.633418Z",
     "start_time": "2020-02-12T07:48:18.942674Z"
    }
   },
   "outputs": [],
   "source": [
    "cnn4,acc4=train(n_window=4,wv=word2vec)"
   ]
  },
  {
   "cell_type": "code",
   "execution_count": null,
   "metadata": {
    "ExecuteTime": {
     "end_time": "2020-02-12T07:52:17.710320Z",
     "start_time": "2020-02-12T07:52:17.629514Z"
    }
   },
   "outputs": [],
   "source": [
    "torch.save(cnn4, 'cnn-w4.pkl')  # save entire net"
   ]
  },
  {
   "cell_type": "code",
   "execution_count": null,
   "metadata": {
    "ExecuteTime": {
     "end_time": "2020-02-12T07:58:07.121724Z",
     "start_time": "2020-02-12T07:53:22.244364Z"
    }
   },
   "outputs": [],
   "source": [
    "cnn5,acc5=train(n_window=5,wv=word2vec)"
   ]
  },
  {
   "cell_type": "code",
   "execution_count": null,
   "metadata": {
    "ExecuteTime": {
     "end_time": "2020-02-12T07:58:48.756566Z",
     "start_time": "2020-02-12T07:58:48.682482Z"
    }
   },
   "outputs": [],
   "source": [
    "torch.save(cnn5, 'cnn-w5.pkl')  # save entire net"
   ]
  },
  {
   "cell_type": "code",
   "execution_count": null,
   "metadata": {
    "ExecuteTime": {
     "end_time": "2020-02-12T07:59:48.750205Z",
     "start_time": "2020-02-12T07:59:26.600230Z"
    }
   },
   "outputs": [],
   "source": [
    "cnn10,acc10=train(n_window=10,wv=word2vec)"
   ]
  },
  {
   "cell_type": "markdown",
   "metadata": {},
   "source": [
    "## Train/Test by Reuters WV"
   ]
  },
  {
   "cell_type": "code",
   "execution_count": null,
   "metadata": {},
   "outputs": [],
   "source": []
  },
  {
   "cell_type": "code",
   "execution_count": null,
   "metadata": {},
   "outputs": [],
   "source": []
  },
  {
   "cell_type": "code",
   "execution_count": null,
   "metadata": {},
   "outputs": [],
   "source": []
  },
  {
   "cell_type": "markdown",
   "metadata": {},
   "source": [
    "## Evaluation"
   ]
  },
  {
   "cell_type": "code",
   "execution_count": null,
   "metadata": {
    "ExecuteTime": {
     "end_time": "2020-02-13T03:48:15.829880Z",
     "start_time": "2020-02-13T03:48:08.361340Z"
    }
   },
   "outputs": [],
   "source": [
    "test_inds=random.sample(range(N),np.int(np.floor(N*0.2)))\n",
    "\n",
    "mat=np.concatenate((np.arange(N).reshape(N,1),data_y.reshape(N,1)),axis=1)\n",
    "\n",
    "test_x=wv_to_tensor(inds=mat[test_inds,0],WV=word2vec)\n",
    "test_y=torch.from_numpy(mat[test_inds,1])"
   ]
  },
  {
   "cell_type": "code",
   "execution_count": null,
   "metadata": {
    "ExecuteTime": {
     "end_time": "2020-02-13T03:51:22.268828Z",
     "start_time": "2020-02-13T03:51:22.147855Z"
    }
   },
   "outputs": [],
   "source": [
    "net = torch.load('cnn-w2.pkl')"
   ]
  },
  {
   "cell_type": "code",
   "execution_count": null,
   "metadata": {
    "ExecuteTime": {
     "end_time": "2020-02-13T03:52:36.300969Z",
     "start_time": "2020-02-13T03:52:27.164286Z"
    }
   },
   "outputs": [],
   "source": [
    "test_output, last_layer = net(test_x)\n",
    "pred_y = torch.max(test_output, 1)[1].data.squeeze()\n",
    "\n",
    "round((pred_y == test_y).sum().item() / float(test_y.size(0)),4)"
   ]
  },
  {
   "cell_type": "markdown",
   "metadata": {},
   "source": [
    "## Plot"
   ]
  },
  {
   "cell_type": "code",
   "execution_count": 1,
   "metadata": {
    "ExecuteTime": {
     "end_time": "2020-02-14T03:27:22.416813Z",
     "start_time": "2020-02-14T03:27:21.778523Z"
    }
   },
   "outputs": [],
   "source": [
    "import numpy as np\n",
    "import matplotlib.pyplot as plt"
   ]
  },
  {
   "cell_type": "code",
   "execution_count": 3,
   "metadata": {
    "ExecuteTime": {
     "end_time": "2020-02-14T03:29:41.438171Z",
     "start_time": "2020-02-14T03:29:41.431882Z"
    }
   },
   "outputs": [],
   "source": [
    "cnn_acc=np.array([[0.632,0.6486,0.6477,0.6601,0.652,0.6602],\n",
    "                 [0.5161,0.5207,0.5185,0.5237,0.5182 ,0.5174],\n",
    "                 [0.5184,0.5169,0.5200,0.5146,0.5208,0.5211],\n",
    "                 [0.5397,0.5360,0.5375,0.5361,0.5409,0.5400],\n",
    "                 [0.5451,0.5360,0.5347,0.5355,0.5294,0.5346],\n",
    "                 [0.5995,0.6035,0.6071,0.6012,0.6060,0.6086],\n",
    "                 [0.6195,0.6273,0.6301,0.6212,0.6259,0.6234]])\n",
    "labs=['GoogleNews-300','Reuters-100','Reuters-300','ThisDoc-100','ThisDoc-300','GloVe-100','GloVe-300']\n",
    "x=np.array([2,3,4,5,7,10])"
   ]
  },
  {
   "cell_type": "code",
   "execution_count": 34,
   "metadata": {
    "ExecuteTime": {
     "end_time": "2020-02-14T03:50:16.801529Z",
     "start_time": "2020-02-14T03:50:16.594072Z"
    }
   },
   "outputs": [
    {
     "data": {
      "text/plain": [
       "<Figure size 576x360 with 0 Axes>"
      ]
     },
     "execution_count": 34,
     "metadata": {},
     "output_type": "execute_result"
    },
    {
     "data": {
      "text/plain": [
       "(0.5, 0.73)"
      ]
     },
     "execution_count": 34,
     "metadata": {},
     "output_type": "execute_result"
    },
    {
     "data": {
      "text/plain": [
       "<matplotlib.legend.Legend at 0x195869b3c48>"
      ]
     },
     "execution_count": 34,
     "metadata": {},
     "output_type": "execute_result"
    },
    {
     "data": {
      "text/plain": [
       "Text(0.5, 0, 'convolution window')"
      ]
     },
     "execution_count": 34,
     "metadata": {},
     "output_type": "execute_result"
    },
    {
     "data": {
      "text/plain": [
       "Text(0, 0.5, 'test accuracy')"
      ]
     },
     "execution_count": 34,
     "metadata": {},
     "output_type": "execute_result"
    },
    {
     "data": {
      "image/png": "[encoded data removed]",
      "text/plain": [
       "<Figure size 576x360 with 1 Axes>"
      ]
     },
     "metadata": {
      "needs_background": "light"
     },
     "output_type": "display_data"
    }
   ],
   "source": [
    "plt.figure(num=1, figsize=(8, 5))\n",
    "\n",
    "l=plt.plot(x,cnn_acc.T)\n",
    "plt.ylim((0.5, 0.73))\n",
    "plt.legend(handles=l,labels=labs,loc='upper left',prop = {'size':7.8})\n",
    "plt.xlabel('convolution window')\n",
    "plt.ylabel('test accuracy')\n",
    "plt.savefig('cnn.png')\n",
    "plt.show()"
   ]
  },
  {
   "cell_type": "code",
   "execution_count": 47,
   "metadata": {
    "ExecuteTime": {
     "end_time": "2020-02-14T08:24:27.262664Z",
     "start_time": "2020-02-14T08:24:27.112839Z"
    }
   },
   "outputs": [
    {
     "data": {
      "text/plain": [
       "<Figure size 576x360 with 0 Axes>"
      ]
     },
     "execution_count": 47,
     "metadata": {},
     "output_type": "execute_result"
    },
    {
     "data": {
      "text/plain": [
       "(0.5, 0.7)"
      ]
     },
     "execution_count": 47,
     "metadata": {},
     "output_type": "execute_result"
    },
    {
     "data": {
      "text/plain": [
       "<BarContainer object of 5 artists>"
      ]
     },
     "execution_count": 47,
     "metadata": {},
     "output_type": "execute_result"
    },
    {
     "data": {
      "text/plain": [
       "Text(0.5, 0, 'word vector')"
      ]
     },
     "execution_count": 47,
     "metadata": {},
     "output_type": "execute_result"
    },
    {
     "data": {
      "text/plain": [
       "Text(0, 0.5, 'test accuracy')"
      ]
     },
     "execution_count": 47,
     "metadata": {},
     "output_type": "execute_result"
    },
    {
     "data": {
      "image/png": "[encoded data removed]",
      "text/plain": [
       "<Figure size 576x360 with 1 Axes>"
      ]
     },
     "metadata": {
      "needs_background": "light"
     },
     "output_type": "display_data"
    }
   ],
   "source": [
    "x=np.array([0.6721,0.5638,0.5601,0.6258,0.6583])\n",
    "labs=['GoogleNews-300','ThisDoc-100','ThisDoc-300','GloVe-100','GloVe-300']\n",
    "plt.figure(num=1, figsize=(8, 5))\n",
    "plt.ylim((0.5, 0.7))\n",
    "plt.bar(np.arange(5),x,color=['orange','lightgreen','limegreen','deepskyblue','dodgerblue'],tick_label=labs)\n",
    "plt.xlabel('word vector')\n",
    "plt.ylabel('test accuracy')\n",
    "plt.savefig('rnn.png')\n",
    "plt.show()"
   ]
  }
 ],
 "metadata": {
  "hide_input": false,
  "kernelspec": {
   "display_name": "Python 3 (base)",
   "language": "python",
   "name": "python3"
  },
  "language_info": {
   "codemirror_mode": {
    "name": "ipython",
    "version": 3
   },
   "file_extension": ".py",
   "mimetype": "text/x-python",
   "name": "python",
   "nbconvert_exporter": "python",
   "pygments_lexer": "ipython3",
   "version": "3.7.4"
  },
  "latex_envs": {
   "LaTeX_envs_menu_present": true,
   "autoclose": false,
   "autocomplete": true,
   "bibliofile": "biblio.bib",
   "cite_by": "apalike",
   "current_citInitial": 1,
   "eqLabelWithNumbers": true,
   "eqNumInitial": 1,
   "hotkeys": {
    "equation": "Ctrl-E",
    "itemize": "Ctrl-I"
   },
   "labels_anchors": false,
   "latex_user_defs": false,
   "report_style_numbering": false,
   "user_envs_cfg": false
  },
  "toc": {
   "base_numbering": 1,
   "nav_menu": {},
   "number_sections": true,
   "sideBar": true,
   "skip_h1_title": false,
   "title_cell": "Table of Contents",
   "title_sidebar": "Contents",
   "toc_cell": false,
   "toc_position": {
    "height": "calc(100% - 180px)",
    "left": "10px",
    "top": "150px",
    "width": "288px"
   },
   "toc_section_display": true,
   "toc_window_display": true
  },
  "varInspector": {
   "cols": {
    "lenName": 16,
    "lenType": 16,
    "lenVar": 40
   },
   "kernels_config": {
    "python": {
     "delete_cmd_postfix": "",
     "delete_cmd_prefix": "del ",
     "library": "var_list.py",
     "varRefreshCmd": "print(var_dic_list())"
    },
    "r": {
     "delete_cmd_postfix": ") ",
     "delete_cmd_prefix": "rm(",
     "library": "var_list.r",
     "varRefreshCmd": "cat(var_dic_list()) "
    }
   },
   "position": {
    "height": "377.667px",
    "left": "1073.33px",
    "right": "20px",
    "top": "120px",
    "width": "346.667px"
   },
   "types_to_exclude": [
    "module",
    "function",
    "builtin_function_or_method",
    "instance",
    "_Feature"
   ],
   "window_display": false
  }
 },
 "nbformat": 4,
 "nbformat_minor": 2
}

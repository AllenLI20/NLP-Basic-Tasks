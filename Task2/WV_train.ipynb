{
 "cells": [
  {
   "cell_type": "code",
   "execution_count": 1,
   "metadata": {
    "ExecuteTime": {
     "end_time": "2020-02-12T05:35:06.433403Z",
     "start_time": "2020-02-12T05:35:04.094491Z"
    }
   },
   "outputs": [],
   "source": [
    "import gensim\n",
    "from gensim.models import Word2Vec\n",
    "import pandas as pd"
   ]
  },
  {
   "cell_type": "markdown",
   "metadata": {},
   "source": [
    "## Specific Document Learning"
   ]
  },
  {
   "cell_type": "code",
   "execution_count": 2,
   "metadata": {
    "ExecuteTime": {
     "end_time": "2020-02-12T05:35:09.340636Z",
     "start_time": "2020-02-12T05:35:07.759675Z"
    }
   },
   "outputs": [],
   "source": [
    "words_ls=pd.read_table('words_ls.txt',header=None)[0]\n",
    "words_ls=[eval(words) for words in words_ls]"
   ]
  },
  {
   "cell_type": "code",
   "execution_count": 35,
   "metadata": {
    "ExecuteTime": {
     "end_time": "2020-02-12T05:54:34.728970Z",
     "start_time": "2020-02-12T05:54:30.271915Z"
    }
   },
   "outputs": [],
   "source": [
    "model=Word2Vec(words_ls, size=100, window=5, min_count=1, workers=4)\n",
    "\n",
    "model.wv.save_word2vec_format('self100.wv')"
   ]
  },
  {
   "cell_type": "code",
   "execution_count": 29,
   "metadata": {
    "ExecuteTime": {
     "end_time": "2020-02-12T05:49:11.226704Z",
     "start_time": "2020-02-12T05:49:09.577943Z"
    }
   },
   "outputs": [],
   "source": [
    "# a = gensim.models.KeyedVectors.load_word2vec_format(\"self.wv\")"
   ]
  },
  {
   "cell_type": "code",
   "execution_count": 38,
   "metadata": {
    "ExecuteTime": {
     "end_time": "2020-02-12T05:57:53.557840Z",
     "start_time": "2020-02-12T05:57:45.161598Z"
    }
   },
   "outputs": [],
   "source": [
    "model=Word2Vec(words_ls, size=300, window=5, min_count=1, workers=4)\n",
    "\n",
    "model.wv.save_word2vec_format('self300.wv')"
   ]
  },
  {
   "cell_type": "markdown",
   "metadata": {},
   "source": [
    "## Reuters Document Learning"
   ]
  },
  {
   "cell_type": "code",
   "execution_count": 40,
   "metadata": {
    "ExecuteTime": {
     "end_time": "2020-02-12T06:04:22.190187Z",
     "start_time": "2020-02-12T06:04:21.349410Z"
    }
   },
   "outputs": [],
   "source": [
    "from nltk.corpus import reuters"
   ]
  },
  {
   "cell_type": "code",
   "execution_count": 63,
   "metadata": {
    "ExecuteTime": {
     "end_time": "2020-02-12T06:14:12.835871Z",
     "start_time": "2020-02-12T06:14:08.101259Z"
    }
   },
   "outputs": [
    {
     "data": {
      "text/plain": [
       "31"
      ]
     },
     "execution_count": 63,
     "metadata": {},
     "output_type": "execute_result"
    },
    {
     "data": {
      "text/plain": [
       "54716"
      ]
     },
     "execution_count": 63,
     "metadata": {},
     "output_type": "execute_result"
    }
   ],
   "source": [
    "len(reuters.sents(reuters.fileids()[0]))\n",
    "len(reuters.sents(reuters.fileids()))"
   ]
  },
  {
   "cell_type": "code",
   "execution_count": 64,
   "metadata": {
    "ExecuteTime": {
     "end_time": "2020-02-12T06:15:25.310317Z",
     "start_time": "2020-02-12T06:15:25.145063Z"
    }
   },
   "outputs": [],
   "source": [
    "sents=reuters.sents(reuters.fileids())"
   ]
  },
  {
   "cell_type": "code",
   "execution_count": 65,
   "metadata": {
    "ExecuteTime": {
     "end_time": "2020-02-12T06:16:10.459507Z",
     "start_time": "2020-02-12T06:15:34.174469Z"
    }
   },
   "outputs": [],
   "source": [
    "model_reuters=Word2Vec(sents, size=300, window=5, min_count=5, workers=4)\n",
    "model_reuters.wv.save_word2vec_format('reuters300.wv')"
   ]
  },
  {
   "cell_type": "code",
   "execution_count": 66,
   "metadata": {
    "ExecuteTime": {
     "end_time": "2020-02-12T06:17:30.474501Z",
     "start_time": "2020-02-12T06:16:56.008711Z"
    }
   },
   "outputs": [],
   "source": [
    "model_reuters=Word2Vec(sents, size=100, window=5, min_count=5, workers=4)\n",
    "model_reuters.wv.save_word2vec_format('reuters100.wv')"
   ]
  },
  {
   "cell_type": "code",
   "execution_count": null,
   "metadata": {},
   "outputs": [],
   "source": []
  }
 ],
 "metadata": {
  "hide_input": false,
  "kernelspec": {
   "display_name": "Python 3 (tf2.0)",
   "language": "python",
   "name": "tensorflow"
  },
  "language_info": {
   "codemirror_mode": {
    "name": "ipython",
    "version": 3
   },
   "file_extension": ".py",
   "mimetype": "text/x-python",
   "name": "python",
   "nbconvert_exporter": "python",
   "pygments_lexer": "ipython3",
   "version": "3.7.6"
  },
  "latex_envs": {
   "LaTeX_envs_menu_present": true,
   "autoclose": false,
   "autocomplete": true,
   "bibliofile": "biblio.bib",
   "cite_by": "apalike",
   "current_citInitial": 1,
   "eqLabelWithNumbers": true,
   "eqNumInitial": 1,
   "hotkeys": {
    "equation": "Ctrl-E",
    "itemize": "Ctrl-I"
   },
   "labels_anchors": false,
   "latex_user_defs": false,
   "report_style_numbering": false,
   "user_envs_cfg": false
  },
  "toc": {
   "base_numbering": 1,
   "nav_menu": {},
   "number_sections": true,
   "sideBar": true,
   "skip_h1_title": false,
   "title_cell": "Table of Contents",
   "title_sidebar": "Contents",
   "toc_cell": false,
   "toc_position": {},
   "toc_section_display": true,
   "toc_window_display": false
  },
  "varInspector": {
   "cols": {
    "lenName": 16,
    "lenType": 16,
    "lenVar": 40
   },
   "kernels_config": {
    "python": {
     "delete_cmd_postfix": "",
     "delete_cmd_prefix": "del ",
     "library": "var_list.py",
     "varRefreshCmd": "print(var_dic_list())"
    },
    "r": {
     "delete_cmd_postfix": ") ",
     "delete_cmd_prefix": "rm(",
     "library": "var_list.r",
     "varRefreshCmd": "cat(var_dic_list()) "
    }
   },
   "types_to_exclude": [
    "module",
    "function",
    "builtin_function_or_method",
    "instance",
    "_Feature"
   ],
   "window_display": false
  }
 },
 "nbformat": 4,
 "nbformat_minor": 2
}
